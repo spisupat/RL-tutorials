{
  "nbformat": 4,
  "nbformat_minor": 0,
  "metadata": {
    "colab": {
      "name": "Instrumental_learning_tutorial",
      "provenance": [],
      "collapsed_sections": [
        "veCci4HCZ3wR",
        "bvDOruKKaI9b",
        "s6M7AtbWalWv",
        "0QP39LWMbQ_D",
        "YNVrXEvydfX0"
      ],
      "authorship_tag": "ABX9TyPD9tDGckDP2BiDvdaHNA4b",
      "include_colab_link": true
    },
    "kernelspec": {
      "name": "python3",
      "display_name": "Python 3"
    }
  },
  "cells": [
    {
      "cell_type": "markdown",
      "metadata": {
        "id": "view-in-github",
        "colab_type": "text"
      },
      "source": [
        "<a href=\"https://colab.research.google.com/github/spisupat/RL_tutorials/blob/main/Instrumental_learning_tutorial.ipynb\" target=\"_parent\"><img src=\"https://colab.research.google.com/assets/colab-badge.svg\" alt=\"Open In Colab\"/></a>"
      ]
    },
    {
      "cell_type": "markdown",
      "metadata": {
        "id": "MWxDbDs11YD2"
      },
      "source": [
        "\n",
        "# Instrumental learning - cliff walking\n",
        "\n",
        "In the previous tutorial, we learnt how to update predictions through time using Temporal Difference learning. In this tutorial, we will extend these ideas to actions in 3 different ways, yielding 3 different learning algorithms.\n",
        "These are all \"model-free\" learning algorithms, since they all learn from experience directly, without an explicit model of the world - One is a policy learning method (Actor-Critic) and two are action value methods (Q-Learning and SARSA)\n",
        "\n",
        "Let us first setup a 12x4 grid-world environment where we will be **cliff-walking** - a star represents your current position, a black bar represents a cliff that you could fall off (reward of -100 & reset to starting position), and a white square represents your goal (reward of +100). Until you reach the goal, every movement you make is costly (reward of -1), so in order to minimize cost, you should reach the goal as quickly as possible, without falling off the cliff.\n"
      ]
    },
    {
      "cell_type": "code",
      "metadata": {
        "id": "WSkDkWpq2D9B",
        "colab": {
          "base_uri": "https://localhost:8080/",
          "height": 160
        },
        "outputId": "8fd5382a-935e-407a-c52f-4aea4fbd622b"
      },
      "source": [
        "# ***NOTE*** \n",
        "# This notebook uses some object-oriented programming to make moving around the world & plotting easier. \n",
        "# Don't worry too much if you are not familiar with objects, they simply serve as self-contained functions that you can interact with.\n",
        "\n",
        "# Importing some basic libraries we will use\n",
        "import numpy as np                        # Mathematical library with support for matrix manipulation akin to MATLAB\n",
        "import matplotlib.pyplot as plt           # Plotting library similar to MATLAB's \"plot\"\n",
        "from IPython.display import clear_output  #Useful to animate plots\n",
        "\n",
        "# This class helps us create a \"gridworld\" object that responds to your actions by updating your position & giving you rewards\n",
        "# For e.g. env = gridworld() creates an object called \"env\" whose functions can be invoked e.g. by env.move(action)\n",
        "# Instances of the object \"env\" itself are referred to as \"self\" within function definitions\n",
        "class gridworld:\n",
        "\n",
        "  # Initialization \n",
        "  def __init__(self):\n",
        "    self.S = [0,0]            # Starting position 'S' in the gridworld\n",
        "    self.R = -np.ones([12,4]) # Cost of -1 everytime you move in the 12x4 grid\n",
        "    self.R[1:11,0] = -100     # Cost of -100 if you fall off the cliff   \n",
        "    self.R[11,0] = 100          # Reward of 1 if you reach the goal\n",
        "\n",
        "  # Plot gridworld & current position\n",
        "  def plot(self,ax):\n",
        "    ax.imshow(self.R.T,cmap=plt.cm.get_cmap('gist_heat'),vmin = -100, vmax = 1)\n",
        "    ax.invert_yaxis()\n",
        "    ax.scatter(self.S[0],self.S[1],300,marker='*')\n",
        "\n",
        "  # Move based on action inputs\n",
        "  def move(self, action):\n",
        "    # Previous position 'Sprev'\n",
        "    Sprev = self.S\n",
        "    # Try moving to new position 'Scurr'\n",
        "    if action == 0:    \n",
        "      Scurr = [self.S[0]-1,self.S[1]]     # left\n",
        "    elif action == 1:  \n",
        "      Scurr = [self.S[0]+1,self.S[1]]     # right\n",
        "    elif action == 2:  \n",
        "      Scurr = [self.S[0],self.S[1]-1]     # down\n",
        "    elif action == 3:  \n",
        "      Scurr = [self.S[0],self.S[1]+1]     # up  \n",
        "\n",
        "    # Reset to start if you fall off the cliff\n",
        "    if Scurr[0]>0 and Scurr[0]<11 and Scurr[1]==0:\n",
        "      Rcurr = -100\n",
        "      Scurr = [0,0]\n",
        "    # Reset to start if you reach the goal\n",
        "    elif Scurr[0]==11 and Scurr[1]==0:\n",
        "      Rcurr = 100\n",
        "      Scurr = [0,0]\n",
        "    # No movement, cost of -5 if you hit a wall\n",
        "    elif Scurr[0]<0 or Scurr[0]>11 or Scurr[1]<0 or Scurr[1]>3:\n",
        "      Scurr = Sprev\n",
        "      Rcurr = -5\n",
        "    # Any other movement costs -1\n",
        "    else:\n",
        "      Rcurr = -1\n",
        "\n",
        "    # Final new position 'Scurr'\n",
        "    self.S = Scurr\n",
        "\n",
        "    # Return old, new positions & reward at new position\n",
        "    return Sprev, Scurr, Rcurr\n",
        "\n",
        "fig = plt.figure(figsize=(6, 4))\n",
        "ax = fig.add_subplot(111)\n",
        "env = gridworld()\n",
        "env.plot(ax)\n",
        "plt.show()"
      ],
      "execution_count": 1,
      "outputs": [
        {
          "output_type": "display_data",
          "data": {
            "image/png": "[encoded data removed]",
            "text/plain": [
              "<Figure size 432x288 with 1 Axes>"
            ]
          },
          "metadata": {
            "tags": [],
            "needs_background": "light"
          }
        }
      ]
    },
    {
      "cell_type": "markdown",
      "metadata": {
        "id": "G0P1kSa7MZOX"
      },
      "source": [
        "Here's a short simulation of an agent wandering around randomly in the gridworld. Notice how it falls off the cliff occasionally! "
      ]
    },
    {
      "cell_type": "code",
      "metadata": {
        "id": "iFUO8GVn75fJ",
        "colab": {
          "base_uri": "https://localhost:8080/",
          "height": 160
        },
        "outputId": "e1ba2e55-4b08-452d-a495-c7111c6575e0"
      },
      "source": [
        "# Wander around randomly in gridworld\n",
        "env = gridworld()\n",
        "i0 = 0         \n",
        "nTimesteps = 100                       # Number of timesteps\n",
        "Shistory = np.zeros([2,nTimesteps+1])  # History of positions\n",
        "Shistory[:,i0] = env.S                 # Initial position\n",
        "\n",
        "for i in np.arange(1, nTimesteps):\n",
        "  clear_output(wait=True)\n",
        "  # Move randomly - Possible actions are 0(left), 1(right), 2(down), 3(up)\n",
        "  Sprev, Scurr, Rcurr = env.move(np.random.choice([0,1,2,3]))\n",
        "  # Plot new position\n",
        "  fig = plt.figure(figsize=(6, 4))\n",
        "  ax = fig.add_subplot(111)\n",
        "  env.plot(ax)\n",
        "  # Save new position\n",
        "  Shistory[:,i] = Scurr\n",
        "  # Plot most recent trajectory\n",
        "  plt.plot(Shistory[0,i0:i+1],Shistory[1,i0:i+1])\n",
        "  if Scurr == [0,0]:\n",
        "    i0 = i\n",
        "  plt.show()"
      ],
      "execution_count": 2,
      "outputs": [
        {
          "output_type": "display_data",
          "data": {
            "image/png": "[encoded data removed]",
            "text/plain": [
              "<Figure size 432x288 with 1 Axes>"
            ]
          },
          "metadata": {
            "tags": [],
            "needs_background": "light"
          }
        }
      ]
    },
    {
      "cell_type": "markdown",
      "metadata": {
        "id": "cn7wFMpKKcuY"
      },
      "source": [
        "## 1. Actor-critic learning\n",
        "As you can see, we need to improve our policy if we want to ever reach the goal! The first algorithm we will use is actor-critic, which calculates **temporal-difference** prediction errors based on state values using a familiar equation, and uses the same prediction error to update both the value function  of the **critic** $V(S_t)$ with a learning rate $\\eta_v$,  and the policy parameter of the action performed by the **actor** $\\theta (a_t,S_t)$, with a learning rate $\\eta_p$\n",
        "\n",
        "$$ \\delta_{t+1} = r(S_{t+1}) + V(S_{t+1}) - V(S_{t})\\\\\n",
        "V(S_{t})^{new} \\leftarrow V(S_t) + \\eta_v \\delta_{t+1}\\\\\n",
        "\\theta (a_t, S_{t})^{new} \\leftarrow \\theta (a_t, S_t) + \\eta_p \\delta_{t+1}\n",
        "$$\n",
        "\n",
        "The policy parameters $\\theta$ are often called the action  *propensities* or action *preferences* and directly determine the policy through the following transformation, making it a **policy learning** algorithm:\n",
        "\n",
        "$$ p(a_t | S_t) = \\frac{e^{\\theta(a_t,S_t)}}{\\sum_j{e^{\\theta(a_j,S_t)}}}\n",
        "$$\n",
        "\n",
        "\n",
        "\n",
        " ## Question 1\n",
        "The code below calculates a TD error and updates the state value function in the same way as the TD-learning tutorial. Add a line to update the policy parameters using this same TD error"
      ]
    },
    {
      "cell_type": "code",
      "metadata": {
        "colab": {
          "base_uri": "https://localhost:8080/",
          "height": 165
        },
        "id": "eV-0sfSFZtDm",
        "outputId": "8c1bf099-eed9-4287-be1b-d25007e4ea2e"
      },
      "source": [
        "# Setup environment\n",
        "env = gridworld()                      \n",
        "i0 = 0         \n",
        "nTimestepsTrain = 5000                 # Number of timesteps\n",
        "nTimestepsTest = 50                    # Number of timesteps\n",
        "Shistory = np.zeros([2,nTimesteps+1])  # History of positions\n",
        "Shistory[:,i0] = env.S                 # Initial position\n",
        "\n",
        "# Actor-critic learning variables\n",
        "V = np.zeros([12,4])         # Array of values (initialized to zero) for each state (indexed by x,y position)\n",
        "theta = np.zeros([4,12,4])   # Array of propensities for each action (0,1,2,3) in each state     \n",
        "delta = 0                    # Prediction error for current state\n",
        "eta_v = 0.2                  # Critic's Value learning rate\n",
        "eta_p = 0.1                  # Actor's Policy learning rate\n",
        "\n",
        "# Actor's policy in any given state\n",
        "def policy(theta_s_t):\n",
        "  p_action = np.exp(theta_s_t)\n",
        "  p_action = p_action/np.sum(p_action)\n",
        "  action = np.where(np.random.multinomial(1,p_action)==1)[0][0]\n",
        "  return action\n",
        "\n",
        "#-----------------TRAINING-----------------------------\n",
        "\n",
        "# Loop through timesteps to learn action values (without plotting)\n",
        "for i in np.arange(1, nTimestepsTrain):\n",
        "  clear_output(wait=True)\n",
        "  # Move according to actor's policy - Possible actions are 0(left), 1(right), 2(down), 3(up)\n",
        "  action = policy(theta[:,env.S[0],env.S[1]])\n",
        "  Sprev, Scurr, Rcurr = env.move(action)\n",
        "\n",
        "  # Temporal difference prediction error at current state\n",
        "  delta = Rcurr + V[Scurr[0],Scurr[1]]-V[Sprev[0],Sprev[1]]\n",
        "\n",
        "\n",
        "\n",
        "  # ***INSERT CRITIC LEARNING RULE HERE***\n",
        "\n",
        "\n",
        "\n",
        "  # ***INSERT ACTOR LEARNING RULE HERE***\n",
        "\n",
        "\n",
        "\n",
        "\n",
        "#-----------------TEST-----------------------------\n",
        "\n",
        "env.S = [0,0]\n",
        "# Simulate & plot actions for a few more timesteps (without learning any further)\n",
        "for i in np.arange(1, nTimestepsTest):\n",
        "  clear_output(wait=True)\n",
        "  # Move according to actor's policy - Possible actions are 0(left), 1(right), 2(down), 3(up)\n",
        "  action = policy(theta[:,env.S[0],env.S[1]])\n",
        "  Sprev, Scurr, Rcurr = env.move(action)\n",
        "  \n",
        "  # Plot new position\n",
        "  fig = plt.figure(figsize=(12, 4))\n",
        "  ax1 = fig.add_subplot(121)\n",
        "  env.plot(ax1)\n",
        "\n",
        "  # Plot new value\n",
        "  ax2 = fig.add_subplot(122)\n",
        "  h = ax2.imshow(V.T,cmap=plt.cm.get_cmap('gist_heat'),vmin = -100, vmax = 1)\n",
        "  ax2.invert_yaxis()\n",
        "  ax2.set_title('State value')\n",
        "\n",
        "  # Save new position\n",
        "  Shistory[:,i] = Scurr\n",
        "  # Plot most recent trajectory\n",
        "  ax1.plot(Shistory[0,i0:i+1],Shistory[1,i0:i+1])\n",
        "  ax1.set_title('Trajectory')\n",
        "  if Scurr == [0,0]:\n",
        "    i0 = i\n",
        "  plt.show()"
      ],
      "execution_count": 3,
      "outputs": [
        {
          "output_type": "display_data",
          "data": {
            "image/png": "[encoded data removed]",
            "text/plain": [
              "<Figure size 864x288 with 2 Axes>"
            ]
          },
          "metadata": {
            "tags": [],
            "needs_background": "light"
          }
        }
      ]
    },
    {
      "cell_type": "markdown",
      "metadata": {
        "id": "veCci4HCZ3wR"
      },
      "source": [
        "### Question 1: Solution"
      ]
    },
    {
      "cell_type": "code",
      "metadata": {
        "id": "sw4ytUp1t8KY",
        "colab": {
          "base_uri": "https://localhost:8080/",
          "height": 165
        },
        "outputId": "3911c0e2-2ac8-4267-90cd-4c3d602e7fec"
      },
      "source": [
        "# Setup environment\n",
        "env = gridworld()                      \n",
        "i0 = 0         \n",
        "nTimestepsTrain = 5000                       # Number of timesteps\n",
        "nTimestepsTest = 100                       # Number of timesteps\n",
        "Shistory = np.zeros([2,nTimesteps+1])  # History of positions\n",
        "Shistory[:,i0] = env.S                 # Initial position\n",
        "\n",
        "# Actor-critic learning variables\n",
        "V = np.zeros([12,4])         # Array of values (initialized to zero) for each state\n",
        "theta = np.zeros([4,12,4])   # Array of propensities for each action (0,1,2,3) in each state     \n",
        "delta = 0                    # Prediction error for current state\n",
        "eta_v = 0.2                  # Value learning rate\n",
        "eta_p = 0.1                 # Policy learning rate\n",
        "\n",
        "# Actor's policy in any given state\n",
        "def policy(theta_s_t):\n",
        "  p_action = np.exp(theta_s_t)\n",
        "  p_action = p_action/np.sum(p_action)\n",
        "  action = np.where(np.random.multinomial(1,p_action)==1)[0][0]\n",
        "  return action\n",
        "\n",
        "#-----------------TRAINING-----------------------------\n",
        "\n",
        "# Loop through timesteps to learn action values (without plotting)\n",
        "for i in np.arange(1, nTimestepsTrain):\n",
        "  clear_output(wait=True)\n",
        "  # Move according to actor's policy - Possible actions are 0(left), 1(right), 2(down), 3(up)\n",
        "  action = policy(theta[:,env.S[0],env.S[1]])\n",
        "  Sprev, Scurr, Rcurr = env.move(action)\n",
        "\n",
        "  # Temporal difference prediction error at current state\n",
        "  delta = Rcurr + V[Scurr[0],Scurr[1]]-V[Sprev[0],Sprev[1]]\n",
        "\n",
        "  # ***INSERT CRITIC LEARNING RULE HERE***\n",
        "  V[Sprev[0],Sprev[1]] = V[Sprev[0],Sprev[1]] + eta_v*delta \n",
        "\n",
        "  # ***INSERT ACTOR LEARNING RULE HERE***\n",
        "  theta[action,Sprev[0],Sprev[1]] = theta[action,Sprev[0],Sprev[1]] + eta_v*delta \n",
        "\n",
        "#-----------------TEST-----------------------------\n",
        "env.S = [0,0]\n",
        "# Simulate & plot actions for a few more timesteps (without learning any further)\n",
        "for i in np.arange(1, nTimestepsTest):\n",
        "  clear_output(wait=True)\n",
        "  # Move according to actor's policy - Possible actions are 0(left), 1(right), 2(down), 3(up)\n",
        "  action = policy(theta[:,env.S[0],env.S[1]])\n",
        "  Sprev, Scurr, Rcurr = env.move(action)\n",
        "  \n",
        "  # Plot new position\n",
        "  fig = plt.figure(figsize=(12, 4))\n",
        "  ax1 = fig.add_subplot(121)\n",
        "  env.plot(ax1)\n",
        "\n",
        "  # Plot new value\n",
        "  ax2 = fig.add_subplot(122)\n",
        "  ax2.imshow(V.T,cmap=plt.cm.get_cmap('gist_heat'),vmin = -100, vmax = 1)\n",
        "  ax2.invert_yaxis()\n",
        "  ax2.set_title('State value')\n",
        "\n",
        "  # Save new position\n",
        "  Shistory[:,i] = Scurr\n",
        "  # Plot most recent trajectory\n",
        "  ax1.plot(Shistory[0,i0:i+1],Shistory[1,i0:i+1])\n",
        "  ax1.set_title('Trajectory')\n",
        "  if Scurr == [0,0]:\n",
        "    i0 = i\n",
        "  plt.show()"
      ],
      "execution_count": null,
      "outputs": [
        {
          "output_type": "display_data",
          "data": {
            "image/png": "[encoded data removed]",
            "text/plain": [
              "<Figure size 864x288 with 2 Axes>"
            ]
          },
          "metadata": {
            "tags": [],
            "needs_background": "light"
          }
        }
      ]
    },
    {
      "cell_type": "code",
      "metadata": {
        "id": "4hRqYvNlK3Xf"
      },
      "source": [
        ""
      ],
      "execution_count": null,
      "outputs": []
    },
    {
      "cell_type": "markdown",
      "metadata": {
        "id": "PXHbElJrWwll"
      },
      "source": [
        "## 2. Q learning\n",
        "The second algorithm we will use is Q-learning, which is an **action value learning** algorithm, since it learns values of actions in each state, and has a policy that needs to decide whether to exploit (pick the action with the highest action value) or explore (pick randomly in order to gain more information). The action values $Q(a_t, S_t)$ are updated using a temporal difference error that is computed using the currently chosen action $a_t$, and under the assumption that the agent will pick **optimally** in the future - hence involving a **max-operator** over possible future actions $a_{t+1}$. \n",
        "\n",
        "$$ \\delta_{t+1} = r(S_{t+1}) + max_a(Q(a_{t+1},S_{t+1})) - Q(a_t , S_{t})\\\\\n",
        "Q(a_t, S_{t})^{new} \\leftarrow Q(a_t, S_t) + \\eta \\delta_{t+1}\\\\\n",
        "$$\n",
        "\n",
        "\n",
        " ## Question 2\n",
        "Add code below to calculate the prediction error according to Q-learning"
      ]
    },
    {
      "cell_type": "code",
      "metadata": {
        "colab": {
          "base_uri": "https://localhost:8080/",
          "height": 623
        },
        "id": "c-V3xXRZaG4o",
        "outputId": "213017b0-216f-4705-e7dc-97329dae89be"
      },
      "source": [
        "# Setup environment\n",
        "env = gridworld()                      \n",
        "i0 = 0         \n",
        "nTimestepsTrain = 10000                    # Number of timesteps\n",
        "nTimestepsTest = 50                        # Number of timesteps\n",
        "Shistory = np.zeros([2,nTimestepsTest+1])  # History of positions\n",
        "Shistory[:,i0] = env.S                     # Initial position\n",
        "\n",
        "# Q-learning variables\n",
        "Q = np.zeros([4,12,4])      # Array of action values for each action (0,1,2,3) in each state\n",
        "delta = 0                   # Prediction error for current state\n",
        "eta = 0.1                   # Learning rate\n",
        "epsilon = 0.1               # Exploration rate\n",
        "\n",
        "# Epsilon-greedy policy based on action values in any given state\n",
        "def policy_epsilon(Q_s_t, epsilon):\n",
        "  if np.random.rand()<epsilon:\n",
        "    action = np.random.choice([0,1,2,3])           # Explore (i.e. random action) with probability epsilon\n",
        "  else:\n",
        "    action = np.where(Q_s_t==np.max(Q_s_t))[0][0]  # Exploit (i.e. highest value action) with probability 1-epsilon\n",
        "  return action\n",
        "\n",
        "#-----------------TRAINING-----------------------------\n",
        "\n",
        "# Loop through timesteps to learn action values (without plotting)\n",
        "for i in np.arange(1, nTimestepsTrain):\n",
        "\n",
        "  # Move according to epsilon-greedy policy - Possible actions are 0(left), 1(right), 2(down), 3(up)\n",
        "  actionPrev = policy_epsilon(Q[:,env.S[0],env.S[1]],epsilon)\n",
        "  Sprev, Scurr, Rcurr = env.move(actionPrev)\n",
        "\n",
        "\n",
        "\n",
        "  # ** INSERT Q-LEARNING PREDICTION ERROR HERE*\n",
        "  delta\n",
        "\n",
        "\n",
        "  # ** INSERT ACTION VALUE UPDATE EQUATION HERE*\n",
        "\n",
        "\n",
        "\n",
        "\n",
        "#-----------------TEST-----------------------------\n",
        "\n",
        "env.S = [0,0]\n",
        "# Simulate & plot actions for a few more timesteps (without learning any further)\n",
        "for i in np.arange(1, nTimestepsTest):\n",
        "  clear_output(wait=True)\n",
        "  # Move according to epsilon-greedy policy - Possible actions are 0(left), 1(right), 2(down), 3(up)\n",
        "  actionPrev = policy_epsilon(Q[:,env.S[0],env.S[1]],epsilon)\n",
        "  Sprev, Scurr, Rcurr = env.move(actionPrev)\n",
        "\n",
        "  # Plot new position\n",
        "  fig = plt.figure(figsize=(18, 12))\n",
        "  ax1 = fig.add_subplot(335)\n",
        "  env.plot(ax1)\n",
        "\n",
        "  # Plot new action values\n",
        "  ax2 = fig.add_subplot(334)\n",
        "  ax2.imshow(Q[0,:,:].T,cmap=plt.cm.get_cmap('gist_heat'),vmin = -100, vmax = 1)\n",
        "  ax2.invert_yaxis()\n",
        "  ax2.set_title('Action value(left)')\n",
        "  ax3 = fig.add_subplot(336)\n",
        "  ax3.imshow(Q[1,:,:].T,cmap=plt.cm.get_cmap('gist_heat'),vmin = -100, vmax = 1)\n",
        "  ax3.invert_yaxis()\n",
        "  ax3.set_title('Action value(right)')\n",
        "  ax4 = fig.add_subplot(338)\n",
        "  ax4.imshow(Q[2,:,:].T,cmap=plt.cm.get_cmap('gist_heat'),vmin = -100, vmax = 1)\n",
        "  ax4.invert_yaxis()\n",
        "  ax4.set_title('Action value(down)')\n",
        "  ax5 = fig.add_subplot(332)\n",
        "  ax5.imshow(Q[3,:,:].T,cmap=plt.cm.get_cmap('gist_heat'),vmin = -100, vmax = 1)\n",
        "  ax5.invert_yaxis()\n",
        "  ax5.set_title('Action value(up)')\n",
        "\n",
        "  # Save new position\n",
        "  Shistory[:,i] = Scurr\n",
        "  # Plot most recent trajectory\n",
        "  ax1.plot(Shistory[0,i0:i+1],Shistory[1,i0:i+1])\n",
        "  ax1.set_title('Trajectory')\n",
        "  if Scurr == [0,0]:\n",
        "    i0 = i\n",
        "  plt.show()"
      ],
      "execution_count": 4,
      "outputs": [
        {
          "output_type": "display_data",
          "data": {
            "image/png": "[encoded data removed]",
            "text/plain": [
              "<Figure size 1296x864 with 5 Axes>"
            ]
          },
          "metadata": {
            "tags": [],
            "needs_background": "light"
          }
        }
      ]
    },
    {
      "cell_type": "markdown",
      "metadata": {
        "id": "bvDOruKKaI9b"
      },
      "source": [
        "### Question 2: Solution"
      ]
    },
    {
      "cell_type": "code",
      "metadata": {
        "id": "vlOYe8Mo5bQS",
        "colab": {
          "base_uri": "https://localhost:8080/",
          "height": 623
        },
        "outputId": "d97aa9f2-11c5-4d84-a2ba-ac079bf1d5f9"
      },
      "source": [
        "# Setup environment\n",
        "env = gridworld()                      \n",
        "i0 = 0         \n",
        "nTimestepsTrain = 10000                        # Number of timesteps\n",
        "nTimestepsTest = 20                        # Number of timesteps\n",
        "Shistory = np.zeros([2,nTimestepsTest+1])  # History of positions\n",
        "Shistory[:,i0] = env.S                 # Initial position\n",
        "\n",
        "# Q-learning variables\n",
        "Q = np.zeros([4,12,4])     # Array of action values for each action (0,1,2,3) in each state\n",
        "delta = 0                   # Prediction error for current state\n",
        "eta = 0.1                   # Learning rate\n",
        "epsilon = 0.1               # Exploration rate\n",
        "\n",
        "# Epsilon-greedy policy based on action values in any given state\n",
        "def policy_epsilon(Q_s_t, epsilon):\n",
        "  if np.random.rand()<epsilon:\n",
        "    action = np.random.choice([0,1,2,3])\n",
        "  else:\n",
        "    action = np.where(Q_s_t==np.max(Q_s_t))[0][0]\n",
        "  return action\n",
        "\n",
        "#-----------------TRAINING-----------------------------\n",
        "\n",
        "# Loop through timesteps to learn action values (without plotting)\n",
        "for i in np.arange(1, nTimestepsTrain):\n",
        "  # Move according to epsilon-greedy policy - Possible actions are 0(left), 1(right), 2(down), 3(up)\n",
        "  actionPrev = policy_epsilon(Q[:,env.S[0],env.S[1]],epsilon)\n",
        "  Sprev, Scurr, Rcurr = env.move(actionPrev)\n",
        "\n",
        "  # ** INSERT Q-LEARNING PREDICTION ERROR HERE*\n",
        "  delta = Rcurr + np.max(Q[:,Scurr[0],Scurr[1]])-Q[actionPrev,Sprev[0],Sprev[1]]\n",
        "\n",
        "  # Action value update rule\n",
        "  Q[actionPrev,Sprev[0],Sprev[1]] = Q[actionPrev,Sprev[0],Sprev[1]] + eta*delta \n",
        "\n",
        "\n",
        "#-----------------TEST-----------------------------\n",
        "\n",
        "env.S = [0,0]\n",
        "# Simulate & plot actions for a few more timesteps (without learning any further)\n",
        "for i in np.arange(1, nTimestepsTest):\n",
        "  clear_output(wait=True)\n",
        "  # Move according to epsilon-greedy policy - Possible actions are 0(left), 1(right), 2(down), 3(up)\n",
        "  actionPrev = policy_epsilon(Q[:,env.S[0],env.S[1]],epsilon)\n",
        "  Sprev, Scurr, Rcurr = env.move(actionPrev)\n",
        "\n",
        "  # Plot new position\n",
        "  fig = plt.figure(figsize=(18, 12))\n",
        "  ax1 = fig.add_subplot(335)\n",
        "  env.plot(ax1)\n",
        "\n",
        "  # Plot new action values\n",
        "  ax2 = fig.add_subplot(334)\n",
        "  ax2.imshow(Q[0,:,:].T,cmap=plt.cm.get_cmap('gist_heat'),vmin = -100, vmax = 1)\n",
        "  ax2.invert_yaxis()\n",
        "  ax2.set_title('Action value(left)')\n",
        "  ax3 = fig.add_subplot(336)\n",
        "  ax3.imshow(Q[1,:,:].T,cmap=plt.cm.get_cmap('gist_heat'),vmin = -100, vmax = 1)\n",
        "  ax3.invert_yaxis()\n",
        "  ax3.set_title('Action value(right)')\n",
        "  ax4 = fig.add_subplot(338)\n",
        "  ax4.imshow(Q[2,:,:].T,cmap=plt.cm.get_cmap('gist_heat'),vmin = -100, vmax = 1)\n",
        "  ax4.invert_yaxis()\n",
        "  ax4.set_title('Action value(down)')\n",
        "  ax5 = fig.add_subplot(332)\n",
        "  ax5.imshow(Q[3,:,:].T,cmap=plt.cm.get_cmap('gist_heat'),vmin = -100, vmax = 1)\n",
        "  ax5.invert_yaxis()\n",
        "  ax5.set_title('Action value(up)')\n",
        "\n",
        "  # Save new position\n",
        "  Shistory[:,i] = Scurr\n",
        "  # Plot most recent trajectory\n",
        "  ax1.plot(Shistory[0,i0:i+1],Shistory[1,i0:i+1])\n",
        "  ax1.set_title('Trajectory')\n",
        "  if Scurr == [0,0]:\n",
        "    i0 = i\n",
        "  plt.show()"
      ],
      "execution_count": 6,
      "outputs": [
        {
          "output_type": "display_data",
          "data": {
            "image/png": "[encoded data removed]",
            "text/plain": [
              "<Figure size 1296x864 with 5 Axes>"
            ]
          },
          "metadata": {
            "tags": [],
            "needs_background": "light"
          }
        }
      ]
    },
    {
      "cell_type": "markdown",
      "metadata": {
        "id": "KdbG_NMFbYj_"
      },
      "source": [
        "## 3. SARSA\n",
        "The third algorithm we will use is SARSA, which is also an **action value learning** algorithm. The main difference from Q-learning, is that in SARSA, action values $Q(a_t, S_t)$ are updated using a temporal difference error that is computed using the chosen action at the current timestep $a_t$, *and the action actually chosen at the future timestep* $a_{t+1}$. For this reason, SARSA is called **on-policy** because it evaluates actions based on the **actual future policy** of the agent, rather than assuming an optimal policy like Q-learning, which is called *off-policy* because its future policy may be different from the one that is used to evaluate prediction errors.\n",
        "\n",
        "$$ \\delta_{t+1} = r(S_{t+1}) + Q(a_{t+1},S_{t+1}) - Q(a_t , S_{t})\\\\\n",
        "Q(a_t, S_{t})^{new} \\leftarrow Q(a_t, S_t) + \\eta \\delta_{t+1}\\\\\n",
        "$$\n",
        "\n",
        "\n",
        " ## Question 3\n",
        " Add code below to calculate the prediction error according to SARSA. Remember that you can only update $Q(S_t)$ *after* taking the action $a_{t+1}$. "
      ]
    },
    {
      "cell_type": "code",
      "metadata": {
        "id": "r_d_U0mJaiVl"
      },
      "source": [
        "# Setup environment\n",
        "env = gridworld()                      \n",
        "i0 = 0         \n",
        "nTimestepsTrain = 10000                    # Number of timesteps\n",
        "nTimestepsTest = 50                        # Number of timesteps\n",
        "Shistory = np.zeros([2,nTimestepsTest+1])  # History of positions\n",
        "Shistory[:,i0] = env.S                     # Initial position\n",
        "\n",
        "# SARSA variables\n",
        "Q = np.zeros([4,12,4])      # Array of action values for each action (0,1,2,3) in each state\n",
        "delta = 0                   # Prediction error for current state\n",
        "eta = 0.1                   # Learning rate\n",
        "epsilon = 0.1               # Exploration rate\n",
        "\n",
        "# Epsilon-greedy policy based on action values in any given state\n",
        "def policy_epsilon(Q_s_t, epsilon):\n",
        "  if np.random.rand()<epsilon:\n",
        "    action = np.random.choice([0,1,2,3])           # Explore (i.e. random action) with probability epsilon\n",
        "  else:\n",
        "    action = np.where(Q_s_t==np.max(Q_s_t))[0][0]  # Exploit (i.e. highest value action) with probability 1-epsilon\n",
        "  return action\n",
        "\n",
        "#-----------------TRAINING-----------------------------\n",
        "\n",
        "# Loop through timesteps to learn action values (without plotting)\n",
        "for i in np.arange(1, nTimestepsTrain):\n",
        "  # Decide future action according to epsilon-greedy policy - Possible actions are 0(left), 1(right), 2(down), 3(up)\n",
        "  actionCurr = policy_epsilon(Q[:,env.S[0],env.S[1]],epsilon)\n",
        "\n",
        "  if i>=2:\n",
        "\n",
        "    # ** INSERT SARSA PREDICTION ERROR HERE*\n",
        "    \n",
        "\n",
        "\n",
        "    # ** INSERT ACTION VALUE UPDATE EQUATION HERE*\n",
        "\n",
        "\n",
        "\n",
        "  # Move based on decided action - Possible actions are 0(left), 1(right), 2(down), 3(up)\n",
        "  actionPrev = actionCurr\n",
        "  Sprev, Scurr, Rcurr = env.move(actionPrev)\n",
        "\n",
        "\n",
        "#-----------------TEST-----------------------------\n",
        "\n",
        "env.S = [0,0]\n",
        "# Simulate & plot actions for a few more timesteps (without learning any further)\n",
        "for i in np.arange(1, nTimestepsTest):\n",
        "  clear_output(wait=True)\n",
        "  # Move according to epsilon-greedy policy - Possible actions are 0(left), 1(right), 2(down), 3(up)\n",
        "  actionPrev = policy_epsilon(Q[:,env.S[0],env.S[1]],epsilon)\n",
        "  Sprev, Scurr, Rcurr = env.move(actionPrev)\n",
        "\n",
        "  # Plot new position\n",
        "  fig = plt.figure(figsize=(18, 12))\n",
        "  ax1 = fig.add_subplot(335)\n",
        "  env.plot(ax1)\n",
        "\n",
        "  # Plot new action values\n",
        "  ax2 = fig.add_subplot(334)\n",
        "  ax2.imshow(Q[0,:,:].T,cmap=plt.cm.get_cmap('gist_heat'),vmin = -100, vmax = 1)\n",
        "  ax2.invert_yaxis()\n",
        "  ax2.set_title('Action value(left)')\n",
        "  ax3 = fig.add_subplot(336)\n",
        "  ax3.imshow(Q[1,:,:].T,cmap=plt.cm.get_cmap('gist_heat'),vmin = -100, vmax = 1)\n",
        "  ax3.invert_yaxis()\n",
        "  ax3.set_title('Action value(right)')\n",
        "  ax4 = fig.add_subplot(338)\n",
        "  ax4.imshow(Q[2,:,:].T,cmap=plt.cm.get_cmap('gist_heat'),vmin = -100, vmax = 1)\n",
        "  ax4.invert_yaxis()\n",
        "  ax4.set_title('Action value(down)')\n",
        "  ax5 = fig.add_subplot(332)\n",
        "  ax5.imshow(Q[3,:,:].T,cmap=plt.cm.get_cmap('gist_heat'),vmin = -100, vmax = 1)\n",
        "  ax5.invert_yaxis()\n",
        "  ax5.set_title('Action value(up)')\n",
        "\n",
        "  # Save new position\n",
        "  Shistory[:,i] = Scurr\n",
        "  # Plot most recent trajectory\n",
        "  ax1.plot(Shistory[0,i0:i+1],Shistory[1,i0:i+1])\n",
        "  ax1.set_title('Trajectory')\n",
        "  if Scurr == [0,0]:\n",
        "    i0 = i\n",
        "  plt.show()"
      ],
      "execution_count": null,
      "outputs": []
    },
    {
      "cell_type": "markdown",
      "metadata": {
        "id": "s6M7AtbWalWv"
      },
      "source": [
        "### Question 3: Solution"
      ]
    },
    {
      "cell_type": "code",
      "metadata": {
        "id": "rm2ghbHCbY4p",
        "colab": {
          "base_uri": "https://localhost:8080/",
          "height": 623
        },
        "outputId": "5f2a2741-f601-4d8e-fa5c-bb70b1073d7a"
      },
      "source": [
        "# Setup environment\n",
        "env = gridworld()                      \n",
        "i0 = 0         \n",
        "nTimestepsTrain = 10000                        # Number of timesteps\n",
        "nTimestepsTest = 20                        # Number of timesteps\n",
        "Shistory = np.zeros([2,nTimestepsTest+1])  # History of positions\n",
        "Shistory[:,i0] = env.S                 # Initial position\n",
        "\n",
        "# SARSA variables\n",
        "Q = np.zeros([4,12,4])      # Array of action values for each action (0,1,2,3) in each state\n",
        "delta = 0                   # Prediction error for current state\n",
        "eta = 0.1                   # Learning rate\n",
        "epsilon = 0.1               # Exploration rate\n",
        "\n",
        "# Epsilon-greedy policy based on action values in any given state\n",
        "def policy_epsilon(Q_s_t, epsilon):\n",
        "  if np.random.rand()<epsilon:\n",
        "    action = np.random.choice([0,1,2,3])\n",
        "  else:\n",
        "    action = np.where(Q_s_t==np.max(Q_s_t))[0][0]\n",
        "  return action\n",
        "\n",
        "#-----------------TRAINING-----------------------------\n",
        "\n",
        "# Loop through timesteps to learn action values (without plotting)\n",
        "for i in np.arange(1, nTimestepsTrain):\n",
        "  # Decide future action according to softmax policy - Possible actions are 0(left), 1(right), 2(down), 3(up)\n",
        "  actionCurr = policy_epsilon(Q[:,env.S[0],env.S[1]],epsilon)\n",
        "\n",
        "  if i>1:\n",
        "    # ** INSERT SARSA PREDICTION ERROR HERE*\n",
        "    delta = Rcurr + Q[actionCurr,Scurr[0],Scurr[1]]-Q[actionPrev,Sprev[0],Sprev[1]]\n",
        "\n",
        "    # Action value update rule\n",
        "    Q[actionPrev,Sprev[0],Sprev[1]] = Q[actionPrev,Sprev[0],Sprev[1]] + eta*delta \n",
        "\n",
        "  # Move based on decided action - Possible actions are 0(left), 1(right), 2(down), 3(up)\n",
        "  actionPrev = actionCurr\n",
        "  Sprev, Scurr, Rcurr = env.move(actionPrev)\n",
        "\n",
        "\n",
        "#-----------------TEST-----------------------------\n",
        "\n",
        "env.S = [0,0]\n",
        "# Simulate & plot actions for a few more timesteps (without learning any further)\n",
        "for i in np.arange(1, nTimestepsTest):\n",
        "  clear_output(wait=True)\n",
        "  # Move according to softmax policy - Possible actions are 0(left), 1(right), 2(down), 3(up)\n",
        "  actionPrev = policy_epsilon(Q[:,env.S[0],env.S[1]],epsilon)\n",
        "  Sprev, Scurr, Rcurr = env.move(actionPrev)\n",
        "\n",
        "  # Plot new position\n",
        "  fig = plt.figure(figsize=(18, 12))\n",
        "  ax1 = fig.add_subplot(335)\n",
        "  env.plot(ax1)\n",
        "\n",
        "  # Plot new action values\n",
        "  ax2 = fig.add_subplot(334)\n",
        "  ax2.imshow(Q[0,:,:].T,cmap=plt.cm.get_cmap('gist_heat'),vmin = -100, vmax = 1)\n",
        "  ax2.invert_yaxis()\n",
        "  ax2.set_title('Action value(left)')\n",
        "  ax3 = fig.add_subplot(336)\n",
        "  ax3.imshow(Q[1,:,:].T,cmap=plt.cm.get_cmap('gist_heat'),vmin = -100, vmax = 1)\n",
        "  ax3.invert_yaxis()\n",
        "  ax3.set_title('Action value(right)')\n",
        "  ax4 = fig.add_subplot(338)\n",
        "  ax4.imshow(Q[2,:,:].T,cmap=plt.cm.get_cmap('gist_heat'),vmin = -100, vmax = 1)\n",
        "  ax4.invert_yaxis()\n",
        "  ax4.set_title('Action value(down)')\n",
        "  ax5 = fig.add_subplot(332)\n",
        "  ax5.imshow(Q[3,:,:].T,cmap=plt.cm.get_cmap('gist_heat'),vmin = -100, vmax = 1)\n",
        "  ax5.invert_yaxis()\n",
        "  ax5.set_title('Action value(up)')\n",
        "\n",
        "  # Save new position\n",
        "  Shistory[:,i] = Scurr\n",
        "  # Plot most recent trajectory\n",
        "  ax1.plot(Shistory[0,i0:i+1],Shistory[1,i0:i+1])\n",
        "  ax1.set_title('Trajectory')\n",
        "  if Scurr == [0,0]:\n",
        "    i0 = i\n",
        "  plt.show()"
      ],
      "execution_count": null,
      "outputs": [
        {
          "output_type": "display_data",
          "data": {
            "image/png": "[encoded data removed]",
            "text/plain": [
              "<Figure size 1296x864 with 5 Axes>"
            ]
          },
          "metadata": {
            "tags": [],
            "needs_background": "light"
          }
        }
      ]
    },
    {
      "cell_type": "markdown",
      "metadata": {
        "id": "FrzF0jPNaoNX"
      },
      "source": [
        ""
      ]
    },
    {
      "cell_type": "code",
      "metadata": {
        "id": "O_om-sy8NlKI"
      },
      "source": [
        ""
      ],
      "execution_count": null,
      "outputs": []
    },
    {
      "cell_type": "markdown",
      "metadata": {
        "id": "MfurZ0hHarfH"
      },
      "source": [
        " ## Question 4\n",
        "What is the difference between the policies learnt by on-policy vs off-policy learning? What do you think are the advantages/drawbacks to on-policy learning?"
      ]
    },
    {
      "cell_type": "markdown",
      "metadata": {
        "id": "0QP39LWMbQ_D"
      },
      "source": [
        "### Question 4: Solution\n"
      ]
    },
    {
      "cell_type": "markdown",
      "metadata": {
        "id": "qtoSYVpddF1h"
      },
      "source": [
        "**Because Q-learning is off-policy, it assumes a different (optimal i.e. greedy) future policy for evaluation than the one it actually executes ($\\epsilon$-greedy). Hence it learns to walk close to the cliff assuming it will never choose the non-greedy action of walking off the edge. This has the advantage of being the shortest path, but the disadvantage of occasionally falling off due to noise in its actual policy!**\n",
        "\n",
        "**On the other hand SARSA is on-policy, so its evaluation takes into account the actual actions chosen. Hence it learns to stay away from the edge of the cliff, because it knows that it occasionally takes non-greedy actions. This has the disadvantage of being a longer path, but the advantage of avoiding falling off the cliff after learning!**\n"
      ]
    },
    {
      "cell_type": "markdown",
      "metadata": {
        "id": "wdvHnxXYbIaX"
      },
      "source": [
        "\n",
        "## Question 5\n",
        "Suppose the agent had a close-to-greedy policy (i.e. epsilon ~0) but the gridworld was \"windy\" i.e. there was some probability that it could be carried away by the wind to an adjacent square at random at every step - which algorithm (SARSA vs Q-learning) would be preferable?\n"
      ]
    },
    {
      "cell_type": "markdown",
      "metadata": {
        "id": "YNVrXEvydfX0"
      },
      "source": [
        "### Question 5: Solution"
      ]
    },
    {
      "cell_type": "markdown",
      "metadata": {
        "id": "Lu51JZOHdfeJ"
      },
      "source": [
        "**The on-policy algorithm i.e. SARSA would be preferable, because environmental noise has a similar influence on the agent's efficacy as the internal policy noise parameter $\\epsilon$ - meaning that the agent occasionally lands up in a random spot, not the one intended by the greedy policy.**"
      ]
    },
    {
      "cell_type": "markdown",
      "metadata": {
        "id": "g3qtZFDCbOwI"
      },
      "source": [
        "\n",
        "## Bonus question\n",
        "Based on your answers to Q4 & Q5, under what conditions do you think an agent might develop anxious behavior? Check out http://www.princeton.edu/~ndaw/zmd20 for some answers..."
      ]
    }
  ]
}